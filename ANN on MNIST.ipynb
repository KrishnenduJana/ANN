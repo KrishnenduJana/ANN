{
  "nbformat": 4,
  "nbformat_minor": 0,
  "metadata": {
    "colab": {
      "provenance": []
    },
    "kernelspec": {
      "name": "python3",
      "display_name": "Python 3"
    },
    "language_info": {
      "name": "python"
    },
    "accelerator": "GPU",
    "gpuClass": "standard"
  },
  "cells": [
    {
      "cell_type": "markdown",
      "source": [
        "Link: https://colab.research.google.com/drive/1BQxy7GYbWmzwxAJdjcPMCF73qgid0dTi?usp=sharing"
      ],
      "metadata": {
        "id": "RBXcA2KPmjNX"
      }
    },
    {
      "cell_type": "markdown",
      "source": [
        "# Implementation of ANN"
      ],
      "metadata": {
        "id": "Zq9U1M1Lldja"
      }
    },
    {
      "cell_type": "markdown",
      "source": [
        "### Loading moudles"
      ],
      "metadata": {
        "id": "sq3fWVYTlkOg"
      }
    },
    {
      "cell_type": "code",
      "execution_count": null,
      "metadata": {
        "id": "FaKU5tQus3KX"
      },
      "outputs": [],
      "source": [
        "import numpy as np\n",
        "import matplotlib.pyplot as plt\n",
        "from keras.layers import Dense, Flatten\n",
        "from keras.models import Sequential\n",
        "from keras.utils import to_categorical\n",
        "from keras.datasets import mnist"
      ]
    },
    {
      "cell_type": "markdown",
      "source": [
        "### Load MNIST handwritten digit data"
      ],
      "metadata": {
        "id": "Cku_emDylqXO"
      }
    },
    {
      "cell_type": "code",
      "source": [
        "(X_train, y_train), (X_test, y_test) = mnist.load_data()\n"
      ],
      "metadata": {
        "id": "5MsBwkLMs341",
        "colab": {
          "base_uri": "https://localhost:8080/"
        },
        "outputId": "95fc59bc-d65e-40cb-b2e9-56d46138e7ba"
      },
      "execution_count": null,
      "outputs": [
        {
          "output_type": "stream",
          "name": "stdout",
          "text": [
            "Downloading data from https://storage.googleapis.com/tensorflow/tf-keras-datasets/mnist.npz\n",
            "11490434/11490434 [==============================] - 0s 0us/step\n"
          ]
        }
      ]
    },
    {
      "cell_type": "code",
      "source": [
        "print(X_train.shape)\n",
        "print(X_test.shape)"
      ],
      "metadata": {
        "colab": {
          "base_uri": "https://localhost:8080/"
        },
        "id": "ddr5nTW9tTP7",
        "outputId": "fd6fa502-ec7e-46ad-d4f8-9d008caf76c2"
      },
      "execution_count": null,
      "outputs": [
        {
          "output_type": "stream",
          "name": "stdout",
          "text": [
            "(60000, 28, 28)\n",
            "(10000, 28, 28)\n"
          ]
        }
      ]
    },
    {
      "cell_type": "code",
      "source": [
        "print(y_train.shape)\n",
        "print(y_test.shape)"
      ],
      "metadata": {
        "colab": {
          "base_uri": "https://localhost:8080/"
        },
        "id": "EUe_HIKJtClJ",
        "outputId": "f942bb67-2da0-4441-85d3-6e091cd67377"
      },
      "execution_count": null,
      "outputs": [
        {
          "output_type": "stream",
          "name": "stdout",
          "text": [
            "(60000,)\n",
            "(10000,)\n"
          ]
        }
      ]
    },
    {
      "cell_type": "code",
      "source": [
        "fig, axes = plt.subplots(ncols=7, sharex=False,\n",
        "sharey=True, figsize=(10, 5))\n",
        "for i in range(7):\n",
        "  axes[i].set_title(y_train[i])\n",
        "  axes[i].imshow(X_train[i], cmap='gray')\n",
        "  axes[i].get_xaxis().set_visible(False)\n",
        "  axes[i].get_yaxis().set_visible(False)\n",
        "plt.show()"
      ],
      "metadata": {
        "colab": {
          "base_uri": "https://localhost:8080/",
          "height": 153
        },
        "id": "ZW5dSjEJtTtj",
        "outputId": "97f81bbd-7a7f-4870-9c43-a5878daac657"
      },
      "execution_count": null,
      "outputs": [
        {
          "output_type": "display_data",
          "data": {
            "text/plain": [
              "<Figure size 1000x500 with 7 Axes>"
            ],
            "image/png": "[encoded data removed]"
          },
          "metadata": {}
        }
      ]
    },
    {
      "cell_type": "code",
      "source": [
        "to_categorical(3, num_classes=10)"
      ],
      "metadata": {
        "colab": {
          "base_uri": "https://localhost:8080/"
        },
        "id": "mkIkdYyAtZmt",
        "outputId": "c5c85524-a1f2-4911-8f7b-c7979b5102a2"
      },
      "execution_count": null,
      "outputs": [
        {
          "output_type": "execute_result",
          "data": {
            "text/plain": [
              "array([0., 0., 0., 1., 0., 0., 0., 0., 0., 0.], dtype=float32)"
            ]
          },
          "metadata": {},
          "execution_count": 7
        }
      ]
    },
    {
      "cell_type": "markdown",
      "source": [
        "### Convert $y_{train}$ into one-hot format"
      ],
      "metadata": {
        "id": "wPMtDI80ly_3"
      }
    },
    {
      "cell_type": "code",
      "source": [
        "temp = []\n",
        "for i in range(len(y_train)):\n",
        "  temp.append(to_categorical(y_train[i], num_classes=10))\n",
        "y_train = np.array(temp)"
      ],
      "metadata": {
        "id": "lx7doaTRtixe"
      },
      "execution_count": null,
      "outputs": []
    },
    {
      "cell_type": "markdown",
      "source": [
        "### Convert $y_{test}$ into one-hot format"
      ],
      "metadata": {
        "id": "iS9RvXRfl-MC"
      }
    },
    {
      "cell_type": "code",
      "source": [
        "temp = []\n",
        "for i in range(len(y_test)):\n",
        "  temp.append(to_categorical(y_test[i], num_classes=10))\n",
        "y_test = np.array(temp)\n",
        "print(y_train.shape)\n",
        "print(y_test.shape)"
      ],
      "metadata": {
        "colab": {
          "base_uri": "https://localhost:8080/"
        },
        "id": "tDpXRT_GtlKj",
        "outputId": "d0081c24-5f6c-41f6-a151-0995c3d57853"
      },
      "execution_count": null,
      "outputs": [
        {
          "output_type": "stream",
          "name": "stdout",
          "text": [
            "(60000, 10)\n",
            "(10000, 10)\n"
          ]
        }
      ]
    },
    {
      "cell_type": "markdown",
      "source": [
        "### Create simple Neural Network model"
      ],
      "metadata": {
        "id": "Q71GRRgemBrL"
      }
    },
    {
      "cell_type": "code",
      "source": [
        "model = Sequential()\n",
        "model.add(Flatten(input_shape=(28,28)))\n",
        "model.add(Dense(100, activation='relu'))\n",
        "model.add(Dense(10, activation='softmax'))\n",
        "model.summary()"
      ],
      "metadata": {
        "colab": {
          "base_uri": "https://localhost:8080/"
        },
        "id": "BJaGgRT7tqmy",
        "outputId": "a3f5a5de-4a30-45d8-ae57-8b7657952d4c"
      },
      "execution_count": null,
      "outputs": [
        {
          "output_type": "stream",
          "name": "stdout",
          "text": [
            "Model: \"sequential_1\"\n",
            "_________________________________________________________________\n",
            " Layer (type)                Output Shape              Param #   \n",
            "=================================================================\n",
            " flatten_1 (Flatten)         (None, 784)               0         \n",
            "                                                                 \n",
            " dense_2 (Dense)             (None, 100)               78500     \n",
            "                                                                 \n",
            " dense_3 (Dense)             (None, 10)                1010      \n",
            "                                                                 \n",
            "=================================================================\n",
            "Total params: 79,510\n",
            "Trainable params: 79,510\n",
            "Non-trainable params: 0\n",
            "_________________________________________________________________\n"
          ]
        }
      ]
    },
    {
      "cell_type": "code",
      "source": [
        "model.compile(loss='binary_crossentropy',optimizer='adam',metrics=['acc'])"
      ],
      "metadata": {
        "id": "ZByxOdPEuL4j"
      },
      "execution_count": null,
      "outputs": []
    },
    {
      "cell_type": "markdown",
      "source": [
        "### Acuracy test"
      ],
      "metadata": {
        "id": "CA16UBCbmEYV"
      }
    },
    {
      "cell_type": "code",
      "source": [
        "model.fit(X_train, y_train, epochs=5,validation_data=(X_test,y_test))"
      ],
      "metadata": {
        "colab": {
          "base_uri": "https://localhost:8080/"
        },
        "id": "VXoV1sEJttcm",
        "outputId": "ac7370f3-c70b-451a-c3a1-f190fdf89bcd"
      },
      "execution_count": null,
      "outputs": [
        {
          "output_type": "stream",
          "name": "stdout",
          "text": [
            "Epoch 1/5\n",
            "1875/1875 [==============================] - 6s 3ms/step - loss: 0.4479 - acc: 0.8907 - val_loss: 0.0973 - val_acc: 0.9162\n",
            "Epoch 2/5\n",
            "1875/1875 [==============================] - 6s 3ms/step - loss: 0.0645 - acc: 0.9299 - val_loss: 0.0532 - val_acc: 0.9314\n",
            "Epoch 3/5\n",
            "1875/1875 [==============================] - 5s 3ms/step - loss: 0.0427 - acc: 0.9432 - val_loss: 0.0428 - val_acc: 0.9443\n",
            "Epoch 4/5\n",
            "1875/1875 [==============================] - 5s 3ms/step - loss: 0.0367 - acc: 0.9505 - val_loss: 0.0384 - val_acc: 0.9514\n",
            "Epoch 5/5\n",
            "1875/1875 [==============================] - 6s 3ms/step - loss: 0.0334 - acc: 0.9556 - val_loss: 0.0359 - val_acc: 0.9547\n"
          ]
        },
        {
          "output_type": "execute_result",
          "data": {
            "text/plain": [
              "<keras.callbacks.History at 0x7faed0955fd0>"
            ]
          },
          "metadata": {},
          "execution_count": 22
        }
      ]
    },
    {
      "cell_type": "markdown",
      "source": [
        "### Here we see that the model is 95% accurate"
      ],
      "metadata": {
        "id": "AE60NL6qmT0b"
      }
    },
    {
      "cell_type": "code",
      "source": [
        "predictions = model.predict(X_test)\n",
        "print(predictions)"
      ],
      "metadata": {
        "id": "XUQ8egFltxvD",
        "colab": {
          "base_uri": "https://localhost:8080/"
        },
        "outputId": "f78aafe1-e572-40da-a0ed-09180c3d1566"
      },
      "execution_count": null,
      "outputs": [
        {
          "output_type": "stream",
          "name": "stdout",
          "text": [
            "313/313 [==============================] - 0s 1ms/step\n",
            "[[2.8985962e-33 3.6267196e-18 7.3874153e-13 ... 1.0000000e+00\n",
            "  3.3067474e-22 3.5812844e-17]\n",
            " [7.5152755e-09 7.1457613e-08 9.9999928e-01 ... 1.1445993e-08\n",
            "  6.5868710e-10 3.8552869e-21]\n",
            " [5.4259759e-20 1.0000000e+00 2.0675728e-08 ... 1.7154370e-10\n",
            "  4.2266600e-11 6.7438949e-12]\n",
            " ...\n",
            " [5.5779639e-20 1.6475565e-17 8.1777416e-18 ... 2.3699603e-11\n",
            "  2.8174788e-16 6.2776026e-12]\n",
            " [6.6248413e-24 5.8808618e-27 0.0000000e+00 ... 4.8605239e-30\n",
            "  8.8550396e-18 4.7020235e-22]\n",
            " [1.5221815e-20 5.5424415e-33 2.9350970e-22 ... 0.0000000e+00\n",
            "  2.5401315e-24 1.3256007e-27]]\n"
          ]
        }
      ]
    },
    {
      "cell_type": "markdown",
      "source": [
        "### Prediction class number"
      ],
      "metadata": {
        "id": "luYimjsfmISB"
      }
    },
    {
      "cell_type": "code",
      "source": [
        "predictions = np.argmax(predictions, axis=1)\n",
        "print(predictions)"
      ],
      "metadata": {
        "colab": {
          "base_uri": "https://localhost:8080/"
        },
        "id": "wnalweRnkjQb",
        "outputId": "b5262afc-6bb2-4e9a-d4ab-0f5a1da816ea"
      },
      "execution_count": null,
      "outputs": [
        {
          "output_type": "stream",
          "name": "stdout",
          "text": [
            "[7 2 1 ... 4 5 6]\n"
          ]
        }
      ]
    },
    {
      "cell_type": "markdown",
      "source": [
        "### Classification immage show"
      ],
      "metadata": {
        "id": "LT1tJwMjmMD5"
      }
    },
    {
      "cell_type": "code",
      "source": [
        "fig, axes = plt.subplots(ncols=10, sharex=False,sharey=True, figsize=(20, 4))\n",
        "for i in range(10):\n",
        "  axes[i].set_title(predictions[i])\n",
        "  axes[i].imshow(X_test[i], cmap='gray')\n",
        "  axes[i].get_xaxis().set_visible(False)\n",
        "  axes[i].get_yaxis().set_visible(False)\n",
        "plt.show()"
      ],
      "metadata": {
        "colab": {
          "base_uri": "https://localhost:8080/",
          "height": 168
        },
        "id": "XXdNspiwknrQ",
        "outputId": "d2d4e845-b564-49ce-ac86-e35e7d41cf29"
      },
      "execution_count": null,
      "outputs": [
        {
          "output_type": "display_data",
          "data": {
            "text/plain": [
              "<Figure size 2000x400 with 10 Axes>"
            ],
            "image/png": "[encoded data removed]"
          },
          "metadata": {}
        }
      ]
    },
    {
      "cell_type": "code",
      "source": [],
      "metadata": {
        "id": "SHDrEI3akr-i"
      },
      "execution_count": null,
      "outputs": []
    }
  ]
}